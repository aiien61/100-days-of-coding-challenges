{
 "cells": [
  {
   "cell_type": "markdown",
   "id": "992d77b7-249f-4b4b-97e0-c407eb99e5d4",
   "metadata": {},
   "source": [
    "#### You have two numbers represented by a linked list, where each node contains a single digit. The digits are stored in reverse order, such that the 1's digit is at the head of the list. Write a function that adds the two numbers and returns the sum as a linked list."
   ]
  },
  {
   "cell_type": "markdown",
   "id": "10b90eec-0750-451f-af27-13318c7b1a5b",
   "metadata": {},
   "source": [
    "##### EXAMPLE\n",
    "##### Input: (7 -> 1 -> 6) + (5 -> 9 -> 2). That is, 617 + 295. \n",
    "##### Output: 2 -> 1 -> 9. That is, 912."
   ]
  },
  {
   "cell_type": "markdown",
   "id": "a5fddc66-0899-4813-9f3d-4e6dbb33593d",
   "metadata": {},
   "source": [
    "#### FOLLOW UP: Suppose the digits are stored in forward order. Repeat the above problem. \n",
    "##### EXAMPLE\n",
    "##### Input: (6 -> 1 -> 7) + (2 -> 9 -> 5). That is, 617 + 295.\n",
    "##### Output: 9 -> 1 -> 2. That is, 912."
   ]
  },
  {
   "cell_type": "code",
   "execution_count": 7,
   "id": "2711f8e1-4741-43f9-b3f2-63b7b9faa764",
   "metadata": {},
   "outputs": [],
   "source": [
    "%run linkedlist.ipynb"
   ]
  },
  {
   "cell_type": "code",
   "execution_count": 43,
   "id": "a27e702e-f288-417b-b6cc-a1b30e7dff22",
   "metadata": {},
   "outputs": [],
   "source": [
    "def sum_lists_reverse_by_brute_force(a, b) -> SinglyLinkedList:\n",
    "    result = 0\n",
    "\n",
    "    node = a.head\n",
    "    i = 0\n",
    "    while node:\n",
    "        result += node.value * (10 ** i)\n",
    "        i += 1\n",
    "        node = node.next_node\n",
    "    \n",
    "    node = b.head\n",
    "    i = 0\n",
    "    while node:\n",
    "        result += node.value * (10 ** i)\n",
    "        i += 1\n",
    "        node = node.next_node\n",
    "\n",
    "    new_list = SinglyLinkedList()\n",
    "    i = 1\n",
    "    while result:\n",
    "        value = result % (10 ** i)\n",
    "        digit = int(value / (10 ** (i-1)))\n",
    "        new_list.append(Node(digit))\n",
    "        result -= value\n",
    "        i += 1\n",
    "    \n",
    "    if not new_list.head:\n",
    "        new_list.append(Node(result))\n",
    "    return new_list\n",
    "        "
   ]
  },
  {
   "cell_type": "code",
   "execution_count": 63,
   "id": "000ab06c-8655-4d77-98d8-9852c6a33ce2",
   "metadata": {},
   "outputs": [],
   "source": [
    "def sum_lists_reverse_by_pythonic(a, b) -> SinglyLinkedList:\n",
    "    num_a = \"\" if a else \"0\"\n",
    "    num_b = \"\" if b else \"0\"\n",
    "    node_a, node_b = a.head, b.head\n",
    "    while node_a or node_b:\n",
    "        if node_a:\n",
    "            num_a = str(node_a.value) + num_a\n",
    "            node_a = node_a.next_node\n",
    "        if node_b:\n",
    "            num_b = str(node_b.value) + num_b\n",
    "            node_b = node_b.next_node\n",
    "\n",
    "    num_ab = int(num_a) + int(num_b)\n",
    "    new_list = SinglyLinkedList()\n",
    "\n",
    "    for value in str(num_ab):\n",
    "        digit = int(value)\n",
    "        new_list.prepend(Node(digit))\n",
    "        \n",
    "    return new_list\n",
    "    "
   ]
  },
  {
   "cell_type": "code",
   "execution_count": 76,
   "id": "88fbedfb-2910-43e1-93fb-56c94093ecdd",
   "metadata": {},
   "outputs": [],
   "source": [
    "def sum_lists_reverse(a, b) -> SinglyLinkedList:\n",
    "    result = 0\n",
    "    n1, n2 = a.head, b.head\n",
    "    ll = SinglyLinkedList()\n",
    "    \n",
    "    if not n1 and not n2:\n",
    "        ll.append(result)\n",
    "        return ll\n",
    "    \n",
    "    while n1 or n2:\n",
    "        if n1:\n",
    "            result += n1.value\n",
    "            n1 = n1.next_node\n",
    "        if n2:\n",
    "            result += n2.value\n",
    "            n2 = n2.next_node\n",
    "            \n",
    "        ll.append(result % 10)\n",
    "        result = result // 10\n",
    "    \n",
    "    if result:\n",
    "        ll.append(result)\n",
    "\n",
    "    return ll\n"
   ]
  },
  {
   "cell_type": "code",
   "execution_count": 81,
   "id": "378a35bc-264a-4da3-9b76-035ed0e4eae0",
   "metadata": {},
   "outputs": [],
   "source": [
    "def sum_lists_followup(a, b) -> SinglyLinkedList:\n",
    "    s1 = \"\" if a else \"0\"\n",
    "    s2 = \"\" if b else \"0\"\n",
    "    n1, n2 = a.head, b.head\n",
    "    while n1 or n2:\n",
    "        if n1:\n",
    "            s1 += str(n1.value)\n",
    "            n1 = n1.next_node\n",
    "        if n2:\n",
    "            s2 += str(n2.value)\n",
    "            n2 = n2.next_node\n",
    "    \n",
    "    ll = SinglyLinkedList()\n",
    "    number = int(s1) + int(s2)\n",
    "    for value in str(number):\n",
    "        digit = int(value)\n",
    "        ll.append(Node(digit))\n",
    "    return ll\n"
   ]
  },
  {
   "cell_type": "code",
   "execution_count": 82,
   "id": "09a1f3aa-5a23-4db1-a794-c775ab0295a9",
   "metadata": {},
   "outputs": [],
   "source": [
    "test_cases = (\n",
    "    # all values can either be list of integer or integers\n",
    "    # a, b, expected_sum\n",
    "    ([7, 1, 6], [5, 9, 2], [2, 1, 9]),\n",
    "    (0, 0, 0),\n",
    "    ([], [], 0),\n",
    "    ([3, 2, 1], [3, 2, 1], [6, 4, 2])\n",
    ")"
   ]
  },
  {
   "cell_type": "code",
   "execution_count": 84,
   "id": "1081e18e-af80-48e0-abaf-2d68ea4207d8",
   "metadata": {},
   "outputs": [
    {
     "name": "stdout",
     "output_type": "stream",
     "text": [
      "a: 7 -> 1 -> 6 b: 5 -> 9 -> 2 expected: [2, 1, 9]\n",
      "2 -> 1 -> 9\n",
      "\n",
      "a:  b:  expected: 0\n",
      "0\n",
      "\n",
      "a:  b:  expected: 0\n",
      "0\n",
      "\n",
      "a: 3 -> 2 -> 1 b: 3 -> 2 -> 1 expected: [6, 4, 2]\n",
      "6 -> 4 -> 2\n",
      "\n"
     ]
    }
   ],
   "source": [
    "for values_a, values_b, expected in test_cases:\n",
    "    a = SinglyLinkedList()\n",
    "    b = SinglyLinkedList()\n",
    "    if values_a:\n",
    "        a.append_multiple(values_a)\n",
    "    if values_b:\n",
    "        b.append_multiple(values_b)\n",
    "        \n",
    "    print('a:', a, 'b:', b, 'expected:', expected)\n",
    "    actual = sum_lists_reverse(a, b)\n",
    "    print(actual)\n",
    "    print()"
   ]
  },
  {
   "cell_type": "code",
   "execution_count": 85,
   "id": "e72a85b1-94db-41bc-8327-eccd3005ca16",
   "metadata": {},
   "outputs": [
    {
     "name": "stdout",
     "output_type": "stream",
     "text": [
      "a: 6 -> 1 -> 7 b: 2 -> 9 -> 5 expected: [9, 1, 2]\n",
      "9 -> 1 -> 2\n",
      "\n"
     ]
    }
   ],
   "source": [
    "a, b = SinglyLinkedList([6,1,7]), SinglyLinkedList([2,9,5])\n",
    "expected = [9,1,2]\n",
    "print('a:', a, 'b:', b, 'expected:', expected)\n",
    "actual = sum_lists_followup(a, b)\n",
    "print(actual)\n",
    "print()"
   ]
  },
  {
   "cell_type": "code",
   "execution_count": null,
   "id": "6d15582c-3ce2-41ce-8d37-1085343dca2c",
   "metadata": {},
   "outputs": [],
   "source": []
  }
 ],
 "metadata": {
  "kernelspec": {
   "display_name": "Python 3 (ipykernel)",
   "language": "python",
   "name": "python3"
  },
  "language_info": {
   "codemirror_mode": {
    "name": "ipython",
    "version": 3
   },
   "file_extension": ".py",
   "mimetype": "text/x-python",
   "name": "python",
   "nbconvert_exporter": "python",
   "pygments_lexer": "ipython3",
   "version": "3.9.12"
  }
 },
 "nbformat": 4,
 "nbformat_minor": 5
}
