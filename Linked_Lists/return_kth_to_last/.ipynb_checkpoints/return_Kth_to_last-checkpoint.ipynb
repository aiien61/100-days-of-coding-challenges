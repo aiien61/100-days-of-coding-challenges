{
 "cells": [
  {
   "cell_type": "markdown",
   "id": "e2caee3d-cb57-45f6-8ad1-eb99d18ea8e8",
   "metadata": {},
   "source": [
    "#### Implement an algorithm to find the k-th to last element of a singly linked list."
   ]
  },
  {
   "cell_type": "code",
   "execution_count": 6,
   "id": "e0167aea-978b-4a3a-9d1c-780258677f37",
   "metadata": {},
   "outputs": [],
   "source": [
    "%run linkedlist.ipynb import SinglyLinkedList"
   ]
  },
  {
   "cell_type": "code",
   "execution_count": 39,
   "id": "cf3df8b9-b9b7-4eba-a4bd-a26d6affd1b2",
   "metadata": {},
   "outputs": [],
   "source": [
    "def return_kth_to_last_by_brute_force(singlylinkedlist, k):\n",
    "    llist = singlylinkedlist\n",
    "    n = len(singlylinkedlist)\n",
    "    node = llist.head\n",
    "    count = 0\n",
    "    while count + k < n:\n",
    "        node = node.next_node\n",
    "        count += 1\n",
    "    \n",
    "    return node.value\n"
   ]
  },
  {
   "cell_type": "code",
   "execution_count": 54,
   "id": "99489b95-e8d3-4534-8550-38fe92ece77f",
   "metadata": {},
   "outputs": [],
   "source": [
    "def return_kth_to_last_by_two_runners(singlylinkedlist, k):\n",
    "    p1 = p2 = singlylinkedlist.head\n",
    "    index = 0\n",
    "    while p1:\n",
    "        if index >= k:\n",
    "            p2 = p2.next_node\n",
    "        index += 1\n",
    "        p1 = p1.next_node\n",
    "    \n",
    "    return p2.value\n"
   ]
  },
  {
   "cell_type": "code",
   "execution_count": 56,
   "id": "92567250-b8c2-409e-87b4-3da8527e0dfd",
   "metadata": {},
   "outputs": [],
   "source": [
    "def return_kth_to_last_by_recursive_backward(singlylinkedlist, k):\n",
    "    head = singlylinkedlist.head\n",
    "    count = 0\n",
    "    \n",
    "    def helper(head, k):\n",
    "        nonlocal count\n",
    "        if not head:\n",
    "            return None\n",
    "        helper_node = helper(head.next_node, k)\n",
    "        count += 1\n",
    "        if count == k:\n",
    "            return head\n",
    "        return helper_node\n",
    "    \n",
    "    return helper(head, k).value\n",
    "        "
   ]
  },
  {
   "cell_type": "code",
   "execution_count": 47,
   "id": "9fd85624-59e3-4149-b9ba-b8f3e35f29ae",
   "metadata": {},
   "outputs": [],
   "source": [
    "test_cases = (\n",
    "    # list, k, expected\n",
    "    ((10, 20, 30, 40, 50), 1, 50),\n",
    "    ((10, 20, 30, 40, 50), 5, 10),\n",
    ")"
   ]
  },
  {
   "cell_type": "code",
   "execution_count": 57,
   "id": "f8211a48-0aa9-46da-a6bb-04f21fe87a77",
   "metadata": {},
   "outputs": [
    {
     "name": "stdout",
     "output_type": "stream",
     "text": [
      "return_kth_to_last_by_brute_force\n",
      "(10, 20, 30, 40, 50) 50 50 True\n",
      "(10, 20, 30, 40, 50) 10 10 True\n",
      "return_kth_to_last_by_recursive_backward\n",
      "(10, 20, 30, 40, 50) 50 50 True\n",
      "(10, 20, 30, 40, 50) 10 10 True\n",
      "return_kth_to_last_by_two_runners\n",
      "(10, 20, 30, 40, 50) 50 50 True\n",
      "(10, 20, 30, 40, 50) 10 10 True\n"
     ]
    }
   ],
   "source": [
    "for f in [return_kth_to_last_by_brute_force, return_kth_to_last_by_recursive_backward, return_kth_to_last_by_two_runners]:\n",
    "    print(f.__name__)\n",
    "    for values, k, expected in test_cases:\n",
    "        actual = f(SinglyLinkedList(values), k)\n",
    "        print(values, actual, expected, actual == expected)"
   ]
  },
  {
   "cell_type": "code",
   "execution_count": 29,
   "id": "f57de120-fa58-4660-861a-93edc4bb1e96",
   "metadata": {},
   "outputs": [
    {
     "name": "stdout",
     "output_type": "stream",
     "text": [
      "kth_to_last\n",
      "(10, 20, 30, 40, 50) True\n",
      "(10, 20, 30, 40, 50) True\n",
      "kth_last_recursive\n",
      "(10, 20, 30, 40, 50) True\n",
      "(10, 20, 30, 40, 50) True\n"
     ]
    }
   ],
   "source": [
    "def kth_to_last(ll, k):\n",
    "    leader = follower = ll.head\n",
    "    count = 0\n",
    "\n",
    "    while leader:\n",
    "        if count >= k:\n",
    "            follower = follower.next\n",
    "        count += 1\n",
    "        leader = leader.next\n",
    "    return follower\n",
    "\n",
    "\n",
    "# O(N) space\n",
    "def kth_last_recursive(ll, k):\n",
    "    head = ll.head\n",
    "    counter = 0\n",
    "\n",
    "    def helper(head, k):\n",
    "        nonlocal counter\n",
    "        if not head:\n",
    "            return None\n",
    "        helper_node = helper(head.next, k)\n",
    "        counter = counter + 1\n",
    "        if counter == k:\n",
    "            return head\n",
    "        return helper_node\n",
    "\n",
    "    return helper(head, k)\n",
    "\n",
    "\n",
    "for f in [kth_to_last, kth_last_recursive]:\n",
    "    print(f.__name__)\n",
    "    for values, k, expected in test_cases:\n",
    "        actual = return_kth_to_last_by_brute_force(SinglyLinkedList(values), k)\n",
    "        print(values, actual == expected)"
   ]
  },
  {
   "cell_type": "code",
   "execution_count": null,
   "id": "df67219c-ed97-4da7-825f-435b1da8a0a5",
   "metadata": {},
   "outputs": [],
   "source": []
  }
 ],
 "metadata": {
  "kernelspec": {
   "display_name": "Python 3 (ipykernel)",
   "language": "python",
   "name": "python3"
  },
  "language_info": {
   "codemirror_mode": {
    "name": "ipython",
    "version": 3
   },
   "file_extension": ".py",
   "mimetype": "text/x-python",
   "name": "python",
   "nbconvert_exporter": "python",
   "pygments_lexer": "ipython3",
   "version": "3.9.12"
  }
 },
 "nbformat": 4,
 "nbformat_minor": 5
}
