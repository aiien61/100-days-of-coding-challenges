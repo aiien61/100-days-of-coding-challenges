{
 "cells": [
  {
   "cell_type": "markdown",
   "id": "07417cc3-9622-405c-980b-b7ce09615300",
   "metadata": {},
   "source": [
    "#### Zero Matrix: Write an algorithm such that if an element in an MxN matrix is 0, its entire row and column are set to 0"
   ]
  },
  {
   "cell_type": "markdown",
   "id": "176b8762-165f-4d35-aec4-d24fc7fddcec",
   "metadata": {},
   "source": [
    "#### try time complexity: O(n), spatial complexity: O(1)"
   ]
  },
  {
   "cell_type": "code",
   "execution_count": 17,
   "id": "22e4eaac-3955-46e1-8c95-b344bc5c8c88",
   "metadata": {},
   "outputs": [],
   "source": [
    "def zero_matrix_by_brute_force(matrix: list) -> list:\n",
    "    m = len(matrix)\n",
    "    n = len(matrix[0])\n",
    "\n",
    "    zero_position = []\n",
    "    for i, row in enumerate(matrix):\n",
    "        for j, col in enumerate(row):\n",
    "            if col == 0:\n",
    "                zero_position.append((i, j))\n",
    "                \n",
    "    for row, col in zero_position:\n",
    "        for i in range(m):\n",
    "            matrix[i][col] = 0\n",
    "\n",
    "        for j in range(n):\n",
    "            matrix[row][j] = 0\n",
    "    \n",
    "    return matrix\n"
   ]
  },
  {
   "cell_type": "code",
   "execution_count": 21,
   "id": "63c29dff-1c0c-491f-9369-6cc94aac26e2",
   "metadata": {},
   "outputs": [],
   "source": [
    "M, expected = (\n",
    "            [\n",
    "                [1, 2, 3, 4, 0],\n",
    "                [6, 0, 8, 9, 10],\n",
    "                [11, 12, 13, 14, 15],\n",
    "                [16, 0, 18, 19, 20],\n",
    "                [21, 22, 23, 24, 25],\n",
    "            ],\n",
    "            [\n",
    "                [0, 0, 0, 0, 0],\n",
    "                [0, 0, 0, 0, 0],\n",
    "                [11, 0, 13, 14, 0],\n",
    "                [0, 0, 0, 0, 0],\n",
    "                [21, 0, 23, 24, 0],\n",
    "            ],\n",
    "        )"
   ]
  },
  {
   "cell_type": "code",
   "execution_count": 19,
   "id": "5f49005c-8a64-4119-9f76-b07cca3328e1",
   "metadata": {},
   "outputs": [
    {
     "data": {
      "text/plain": [
       "True"
      ]
     },
     "execution_count": 19,
     "metadata": {},
     "output_type": "execute_result"
    }
   ],
   "source": [
    "zero_matrix_by_brute_force(M) == expected"
   ]
  },
  {
   "cell_type": "code",
   "execution_count": 20,
   "id": "c7c200f9-e0db-4cbd-a6c9-4ffb06cd4220",
   "metadata": {},
   "outputs": [],
   "source": [
    "def nullify_row(matrix: list, row: int) -> None:\n",
    "    for j in range(len(matrix[row])):\n",
    "        matrix[row][j] = 0\n",
    "    return None\n",
    "\n",
    "\n",
    "def nullify_column(matrix: list, column: int) -> None:\n",
    "    for i in range(len(matrix)):\n",
    "        matrix[i][column] = 0\n",
    "    return None\n",
    "\n",
    "\n",
    "def zero_matrix(matrix: list) -> list:\n",
    "    m = len(matrix)\n",
    "    n = len(matrix[0])\n",
    "    row_has_zero, col_has_zero = False, False\n",
    "    \n",
    "    for j in range(n):\n",
    "        if matrix[0][j] == 0:\n",
    "            row_has_zero = True\n",
    "            break\n",
    "            \n",
    "    for i in range(m):\n",
    "        if matrix[i][0] == 0:\n",
    "            col_has_zero = True\n",
    "            break\n",
    "            \n",
    "    for i in range(1, m):\n",
    "        for j in range(1, n):\n",
    "            if matrix[i][j] == 0:\n",
    "                matrix[i][0] = 0\n",
    "                matrix[0][j] = 0\n",
    "    \n",
    "    \n",
    "    for i in range(m):\n",
    "        if matrix[i][0] == 0:\n",
    "            nullify_row(matrix, i)\n",
    "            \n",
    "    for j in range(n):\n",
    "        if matrix[0][j] == 0:\n",
    "            nullify_column(matrix, j)\n",
    "            \n",
    "    if row_has_zero:\n",
    "        nullify_row(matrix, 0)\n",
    "        \n",
    "    if col_has_zero:\n",
    "        nullify_column(matrix, 0)\n",
    "    \n",
    "    return matrix\n"
   ]
  },
  {
   "cell_type": "code",
   "execution_count": 22,
   "id": "9a4f2773-ae6d-4d8a-bce5-a83551ab2bc7",
   "metadata": {},
   "outputs": [
    {
     "data": {
      "text/plain": [
       "True"
      ]
     },
     "execution_count": 22,
     "metadata": {},
     "output_type": "execute_result"
    }
   ],
   "source": [
    "zero_matrix(M) == expected"
   ]
  },
  {
   "cell_type": "code",
   "execution_count": null,
   "id": "0e073941-b210-48c5-a3d7-cecc8112a4ed",
   "metadata": {},
   "outputs": [],
   "source": []
  }
 ],
 "metadata": {
  "kernelspec": {
   "display_name": "Python 3 (ipykernel)",
   "language": "python",
   "name": "python3"
  },
  "language_info": {
   "codemirror_mode": {
    "name": "ipython",
    "version": 3
   },
   "file_extension": ".py",
   "mimetype": "text/x-python",
   "name": "python",
   "nbconvert_exporter": "python",
   "pygments_lexer": "ipython3",
   "version": "3.9.12"
  }
 },
 "nbformat": 4,
 "nbformat_minor": 5
}
